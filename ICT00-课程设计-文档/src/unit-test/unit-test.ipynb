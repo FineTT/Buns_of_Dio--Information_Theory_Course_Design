{
 "metadata": {
  "language_info": {
   "codemirror_mode": {
    "name": "ipython",
    "version": 3
   },
   "file_extension": ".py",
   "mimetype": "text/x-python",
   "name": "python",
   "nbconvert_exporter": "python",
   "pygments_lexer": "ipython3",
   "version": 3
  },
  "orig_nbformat": 2
 },
 "nbformat": 4,
 "nbformat_minor": 2,
 "cells": [
  {
   "cell_type": "code",
   "execution_count": null,
   "metadata": {},
   "outputs": [],
   "source": [
    "def quick_test(symbol_prob, msg_len):\n",
    "    symbol_cumsum = symbol_prob.cumsum()\n",
    "    print(\"symbol_prob[0:50] =\", symbol_prob[0:50])\n",
    "\n",
    "    symbol_random = np.random.uniform(size=msg_len)\n",
    "    msg = np.searchsorted(symbol_cumsum, symbol_random)\n",
    "    print(\"msg[0:100] =\", msg[0:100])\n",
    "\n",
    "    def probability(x):\n",
    "    (hist, bin_edges) = np.histogram(x, bins=range(257))\n",
    "    P = hist/x.size\n",
    "    return P\n",
    "\n",
    "    P = probability(msg)\n",
    "    print(\"P relative error =\", abs(P - symbol_prob)/symbol_prob)"
   ]
  },
  {
   "cell_type": "code",
   "execution_count": null,
   "metadata": {},
   "outputs": [],
   "source": [
    "file_name = 'P0=0.5.LEN=1MB.OUTPUT.dat'\n",
    "\n",
    "msg = []\n",
    "with open(file_name) as file_object:\n",
    "    \n",
    "\n"
   ]
  }
 ]
}