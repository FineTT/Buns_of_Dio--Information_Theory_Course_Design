{
 "cells": [
  {
   "source": [
    "# “数字信号处理”课程设计——工作台\n",
    "\n",
    "本文件为课程设计项目“语音信号增采样”提供给一个设计、开发和测试的环境。\n",
    "\n",
    "本文件也属于被评分的部分，学生需要连同课程设计报告一并提交，但请注意以下要求：\n",
    "- 保留完整的增采样方法的实现代码和输出结果，并进行适当的注释和说明。\n",
    "- 确保不需要任何改动（例如修改参数），可以全部直接运行和显示结果。\n",
    "- 删除所有多余的调试代码、无用输出结果等。\n",
    "- 本文件中可以包含原理说明、结果分析等非编程实现类的内容，但只作为学生自己参考用，教师将仅以课程设计报告中的相关内容作为评分依据。"
   ],
   "cell_type": "markdown",
   "metadata": {}
  },
  {
   "cell_type": "code",
   "execution_count": 230,
   "metadata": {},
   "outputs": [],
   "source": [
    "# Initialization for this notebook.\n",
    "import numpy as np\n",
    "from scipy import signal\n",
    "from scipy import fft\n",
    "from scipy import interpolate\n",
    "import matplotlib.pyplot as plt\n",
    "\n",
    "# Import everything from `lib/dsp.py`.\n",
    "from lib.dsp import *\n",
    "\n",
    "# Un-comment the following line to use interactive matplotlib widget.\n",
    "%matplotlib widget"
   ]
  },
  {
   "source": [
    "## 引言\n",
    "\n",
    "以下的代码通过对一组特定信号的频谱分析，引导学生思考如何通过数字滤波的方法实现增采样。"
   ],
   "cell_type": "markdown",
   "metadata": {}
  },
  {
   "source": [
    "定义一个信号发生函数，用于生成类似语音信号的信号序列。"
   ],
   "cell_type": "markdown",
   "metadata": {}
  },
  {
   "cell_type": "code",
   "execution_count": 231,
   "metadata": {},
   "outputs": [],
   "source": [
    "def gen_signal(fs, n):\n",
    "    \"\"\"Generate a test signal that comsists of several sin components.\"\"\"\n",
    "    # Create a list of parameters, (A, w, phi), for each sin component.\n",
    "    x_comp = []\n",
    "    x_comp.append((0.30, 2*np.pi/fs * 1.0e3, 0))\n",
    "    x_comp.append((0.25, 2*np.pi/fs * 1.5e3, 0))\n",
    "    x_comp.append((0.20, 2*np.pi/fs * 2.0e3, 0))\n",
    "    x_comp.append((0.15, 2*np.pi/fs * 2.5e3, 0))\n",
    "    x_comp.append((0.10, 2*np.pi/fs * 3.0e3, 0))\n",
    "    \n",
    "    # Generate the sequence by combining all sin components.\n",
    "    x = np.sum([seq_sin(A, w, phi, 0, n-1) for A, w, phi in x_comp], axis=0)[0]\n",
    "\n",
    "    return x"
   ]
  },
  {
   "source": [
    "画出三个信号及其频谱：\n",
    "- 低采样率(8KHz)信号 `x`\n",
    "- 对 `x` 进行样本间“插零”后的信号 `x_insert_0`\n",
    "- 目标高采样率(8KHz*6=48KHz)信号 `x_target`"
   ],
   "cell_type": "markdown",
   "metadata": {}
  },
  {
   "cell_type": "code",
   "execution_count": 232,
   "metadata": {},
   "outputs": [
    {
     "output_type": "display_data",
     "data": {
      "text/plain": "Canvas(toolbar=Toolbar(toolitems=[('Home', 'Reset original view', 'home', 'home'), ('Back', 'Back to previous …",
      "application/vnd.jupyter.widget-view+json": {
       "version_major": 2,
       "version_minor": 0,
       "model_id": "2867394794dd4b46933e3a11236f48a2"
      }
     },
     "metadata": {}
    }
   ],
   "source": [
    "x_len = 128     # length of the low sampling rate signal\n",
    "fs_x = 8e3      # the low sampling rate 低采样率\n",
    "up_factor = 6   # upsampling factor 上采样因子\n",
    "\n",
    "fs_up = fs_x * up_factor\n",
    "x_len_up = x_len * up_factor\n",
    "\n",
    "# Generate the low sampling rate signal.\n",
    "x = gen_signal(fs_x, x_len)\n",
    "\n",
    "# Insert zeros between samples.\n",
    "x_insert_0 = np.zeros(x_len_up)\n",
    "x_insert_0[::up_factor] = x\n",
    "\n",
    "# Generate a high sampling rate target signal.\n",
    "x_target = gen_signal(fs_up, x_len_up)\n",
    "\n",
    "# Plot the signals for inspection.\n",
    "fig, axs = plt.subplots(3, 2, figsize=(12,6))\n",
    "fig.tight_layout(h_pad=4)\n",
    "TITLES = ['sequence', 'spectrum']\n",
    "plot_signals(['x'], [x], fs_x, axs[0,:], TITLES)\n",
    "plot_signals(['x_insert_0'], [x_insert_0], fs_up, axs[1,:], TITLES)\n",
    "plot_signals(\n",
    "    ['x_target', 'x_insert_0'],\n",
    "    [x_target, x_insert_0],\n",
    "    fs_up, axs[2,:],\n",
    "    TITLES\n",
    ")"
   ]
  },
  {
   "source": [
    "## 基于数字滤波的增采样方法设计\n",
    "\n",
    "基于以上信号的特点，设计一个基于数字滤波器的增采样方法。\n",
    "\n",
    "【提示】将低采样率的信号 `x` 通过插零得到 `x_insert_0`，再输入某个数字滤波器后，得到接近目标高采样率信号 `x_target` 的信号 `x_filter`。\n",
    "\n",
    "请按以下指引，在下文编写程序实现该方法：\n",
    "- 制定数字滤波器的技术指标。\n",
    "- 计算满足指标的数字滤波器的系数 `b` 和 `a`。\n",
    "- 编写一个函数`upsample_filter()`，输入低采样率的信号 `x`，输出通过滤波方法得到的增采样信号 `x_filter`\n",
    "- 将信号 `x_filter` 与 `x_target` 对齐画在同一个坐标系中进行比较。\n",
    "  - `x_filter` 相对于 `x_target` 是有延迟，且需要经过一段时间才能达到稳定。因此，需要进行一定的处理才可得到有意义的比较。【提示】截取“有效”部分并对齐。\n",
    "  通过平移来尽量对齐重叠。\n",
    "- 计算 `x_filter` 与 `x_target` 有效对齐部分的 MSE（均方差）。\n",
    "- 尝试不同的滤波器类型和参数，找到最优方案，即 MSE 最小的滤波器及其参数。\n",
    "  - 至少尝试一种IIR和一种FIR滤波器"
   ],
   "cell_type": "markdown",
   "metadata": {}
  },
  {
   "source": [
    "## 基于时域插值的增采样方法\n",
    "\n",
    "查阅资料，学习最近邻域插值(nearest neighbour interpolation)、线性插值(linear interpolation)的基本原理。\n",
    "\n",
    "【提示】可以利用现成的函数库进行插值计算。\n",
    "\n",
    "请按以下指引，在下文编写程序实现该方法：\n",
    "- 编写一个函数 `upsample_interp()`，输入低采样率的信号 `x`，输出通过插值方法得到的增采样信号 `x_interp`。\n",
    "- 将信号 `x_interp` 与 `x_target` 对齐画在同一个坐标系中进行比较。\n",
    "  - 注意 `x_interp` 相对于 `x_target` 是否有延迟，是否需要截取“有效”部分并对齐。\n",
    "- 计算 `x_interp` 与 `x_target` 有效对齐部分的 MSE（均方差）。\n",
    "- 尝试不同插值类型，找到最优方案，即 MSE 最小插值类型出。"
   ],
   "cell_type": "markdown",
   "metadata": {}
  },
  {
   "cell_type": "code",
   "execution_count": 233,
   "metadata": {},
   "outputs": [],
   "source": [
    "def upsample_interp(x, up_factor, kind='zero'):\n",
    "    \"\"\"\n",
    "    输入低采样率的信号，输出通过指定插值方法得到的增采样信号\n",
    "    Args:\n",
    "        x: array, 待插值信号\n",
    "        up_factor: int, 上采样因子\n",
    "        kind: str, 默认是 'zero'\n",
    "            |候选值                 |作用                                                     |\n",
    "            |'zero', 'nearest'\t    |阶梯插值, 相当于零阶 B 样条曲线                            |\n",
    "            |'slinear', 'linear'\t|线性插值, 用一条直线连接所有的取样点, 相当于一阶 B 样条曲线  |\n",
    "            |'quadratic', 'cubic'\t|二阶和三阶 B 样条曲线, 更高阶的曲线可以直接使用整数值指定    |\n",
    "\n",
    "    Returns:\n",
    "        x_interp: array, 增采样后序列\n",
    "    \"\"\"\n",
    "    x_len = len(x)\n",
    "    x_sub = np.linspace(0, x_len, x_len)\n",
    "    x_len_up = np.linspace(0, x_len, 6 * x_len)\n",
    "    f_interp = interpolate.interp1d(x_sub, x, kind=kind)\n",
    "    x_interp = f_interp(x_len_up)\n",
    "    return x_interp\n",
    "\n",
    "def gen_comp_plots(x_interp, x_target, fs_up):\n",
    "    \"\"\"\n",
    "    比较增采样结果 x_interp 与目标结果 x_target\n",
    "    Args:\n",
    "        x_interp: array, 增采样后的信号\n",
    "        x_target: array, 目标信号\n",
    "        fs_up: int, 增采样后的频率\n",
    "    \"\"\"\n",
    "    fig, axs = plt.subplots(3, 2, figsize=(13,7))\n",
    "    fig.tight_layout(h_pad=3)\n",
    "    TITLES = ['sequence', 'spectrum']\n",
    "    plot_signals(['x_interp'], [x_interp], fs_up, axs[0,:], TITLES)\n",
    "    plot_signals(['x_target'], [x_target], fs_up, axs[1,:], TITLES)\n",
    "    plot_signals(\n",
    "        ['x_target', 'x_interp'],\n",
    "        [x_target, x_interp],\n",
    "        fs_up, axs[2,:],\n",
    "        TITLES\n",
    "    )\n",
    "\n",
    "def gen_MSE(records_real, records_predict):\n",
    "    \"\"\"\n",
    "    获得均方差\n",
    "    Args:\n",
    "        records_real: array, 真实值\n",
    "        records_predict: array, 目标值\n",
    "    Returns:\n",
    "        float, 均方差\n",
    "    \"\"\"\n",
    "    if len(records_real) == len(records_predict):\n",
    "        return sum(map(lambda x, y: (x - y)**2, records_real, records_predict)) / x_len_up\n",
    "    else:\n",
    "        return None\n",
    "\n",
    "def best_insterp():\n",
    "    MSEs = {}\n",
    "    kinds = ('zero', 'nearest', 'slinear', 'linear', 'quadratic', 'cubic')\n",
    "    for kind in kinds:\n",
    "        x_interp = upsample_interp(x, up_factor, kind=kind)\n",
    "        MSEs[kind] = gen_MSE(x_interp, x_target)   \n",
    "\n",
    "    for key, value in MSEs.items():\n",
    "        print(\"\\nMethod: \" + key)\n",
    "        print(\"MSE:    \" + str(np.round(value, 4)))\n",
    "\n",
    "    fig, ax = plt.subplots(figsize=(5, 4))\n",
    "    i = 0\n",
    "    for value in MSEs.values():\n",
    "        ax.scatter(i, value)\n",
    "        i += 1\n",
    "    ax.legend(MSEs.keys())\n",
    "    ax.set_title('MSEs Compare')"
   ]
  },
  {
   "source": [
    "## 均方差\n",
    "均方差（mean square error），用MSE表示。均方差是各数据偏离真实值的距离平方和的平均数，也即误差平方和的平均数，计算公式形式上接近方差，它的开方叫均方根误差，均方根误差才和标准差形式上接近。均方差有时候被认为等同于方差"
   ],
   "cell_type": "markdown",
   "metadata": {}
  },
  {
   "cell_type": "code",
   "execution_count": 234,
   "metadata": {},
   "outputs": [
    {
     "output_type": "stream",
     "name": "stdout",
     "text": [
      "\nMethod: zero\nMSE:    0.1298\n\nMethod: nearest\nMSE:    0.0484\n\nMethod: slinear\nMSE:    0.0339\n\nMethod: linear\nMSE:    0.0339\n\nMethod: quadratic\nMSE:    0.0362\n\nMethod: cubic\nMSE:    0.0365\n"
     ]
    },
    {
     "output_type": "display_data",
     "data": {
      "text/plain": "Canvas(toolbar=Toolbar(toolitems=[('Home', 'Reset original view', 'home', 'home'), ('Back', 'Back to previous …",
      "application/vnd.jupyter.widget-view+json": {
       "version_major": 2,
       "version_minor": 0,
       "model_id": "1f3f22ca2dd0483d9e26e027222d1497"
      }
     },
     "metadata": {}
    }
   ],
   "source": [
    "best_insterp()"
   ]
  },
  {
   "cell_type": "code",
   "execution_count": 235,
   "metadata": {},
   "outputs": [
    {
     "output_type": "display_data",
     "data": {
      "text/plain": "Canvas(toolbar=Toolbar(toolitems=[('Home', 'Reset original view', 'home', 'home'), ('Back', 'Back to previous …",
      "application/vnd.jupyter.widget-view+json": {
       "version_major": 2,
       "version_minor": 0,
       "model_id": "ac02f26fa9f44828a77278509d4668f7"
      }
     },
     "metadata": {}
    }
   ],
   "source": [
    "x_interp = upsample_interp(x,up_factor, kind='linear')\n",
    "gen_comp_plots(x_interp, x_target, fs_up)"
   ]
  }
 ],
 "metadata": {
  "kernelspec": {
   "name": "python3",
   "display_name": "Python 3.8.6 64-bit",
   "metadata": {
    "interpreter": {
     "hash": "4ac11c4557b38c6a712171712b60e12d189560a994c398bf6efd4f13a5b95826"
    }
   }
  },
  "language_info": {
   "codemirror_mode": {
    "name": "ipython",
    "version": 3
   },
   "file_extension": ".py",
   "mimetype": "text/x-python",
   "name": "python",
   "nbconvert_exporter": "python",
   "pygments_lexer": "ipython3",
   "version": "3.8.6-candidate"
  }
 },
 "nbformat": 4,
 "nbformat_minor": 4
}